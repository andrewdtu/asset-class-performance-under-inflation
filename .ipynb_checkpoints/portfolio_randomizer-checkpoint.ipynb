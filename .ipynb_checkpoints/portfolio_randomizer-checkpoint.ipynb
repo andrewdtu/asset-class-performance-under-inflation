{
 "cells": [
  {
   "cell_type": "markdown",
   "id": "f1178c71-8e3a-45a0-8fac-4469c8789939",
   "metadata": {},
   "source": [
    "# Notebook Instructions\n",
    "\n",
    "1. If you are new to Jupyter notebooks, please go through this introductory manual <a href='https://quantra.quantinsti.com/quantra-notebook' target=\"_blank\">here</a>.\n",
    "1. Any changes made in this notebook would be lost after you close the browser window. **You can download the notebook to save your work on your PC.**\n",
    "1. Before running this notebook on your local PC:<br>\n",
    "i.  You need to set up a Python environment and the relevant packages on your local PC. To do so, go through the section on \"**Python Installation**\" in the course.<br>\n",
    "ii. You need to **download the zip file available in the last unit** of this course. The zip file contains the data files and/or python modules that might be required to run this notebook."
   ]
  },
  {
   "cell_type": "markdown",
   "id": "ad973dda",
   "metadata": {},
   "source": [
    "## Modern Portfolio Theory on Multiple Assets\n",
    "In this notebook, we provide a model solution to implement the Modern Portfolio Theorem (MPT) on multiple assets. You can refer to this if you are stuck in any step while building your capstone project solution. The model solution here guides you to answer the problem statements posed in the capstone project. The notebook structure is as follows:\n",
    "\n",
    "1. [Import the data and calculate annualised returns](#data): You already know this from the MPT notebook on two assets.\n",
    "\n",
    "1. [Make random portfolios with different weights](#weights): Create a portfolio with random weights of the constituents. The portfolio metrics is calculated and saved in a data frame.\n",
    "\n",
    "1. [Identify the portfolios with maximum returns/risk and minimum risk](#max): The portfolios with minimum risk and maximum Sharpe ratio (returns/risk) is selected from the list of random portfolios.\n",
    "\n",
    "1. [Efficient frontier](#frontier): The efficient frontier is plotted for a visual representation of the various portfolios.\n",
    "\n",
    "1. [Results](#opt_wt): The optimal weights are printed for the portfolios with minimum risk and maximum Sharpe ratio."
   ]
  },
  {
   "cell_type": "code",
   "execution_count": 1,
   "id": "8e90b328",
   "metadata": {},
   "outputs": [],
   "source": [
    "# Importing the necessary Python modules required in this notebook \n",
    "import pandas as pd\n",
    "import math\n",
    "import numpy as np\n",
    "import matplotlib.pyplot as plt"
   ]
  },
  {
   "cell_type": "markdown",
   "id": "fd069353",
   "metadata": {},
   "source": [
    "<a id='data'></a> \n",
    "## Import the data and calculate annualised returns\n",
    "We have imported and saved the prices of the stocks, Chevron (CVX), Microsoft (MSFT) and Google (GOOGL) in a CSV file. You will read the CSV file and save in a dataframe.\n",
    "\n",
    "You can use your own data file with more assets coming in as additional columns."
   ]
  },
  {
   "cell_type": "code",
   "execution_count": 2,
   "id": "fbaa2e3e",
   "metadata": {},
   "outputs": [
    {
     "data": {
      "text/html": [
       "<div>\n",
       "<style scoped>\n",
       "    .dataframe tbody tr th:only-of-type {\n",
       "        vertical-align: middle;\n",
       "    }\n",
       "\n",
       "    .dataframe tbody tr th {\n",
       "        vertical-align: top;\n",
       "    }\n",
       "\n",
       "    .dataframe thead th {\n",
       "        text-align: right;\n",
       "    }\n",
       "</style>\n",
       "<table border=\"1\" class=\"dataframe\">\n",
       "  <thead>\n",
       "    <tr style=\"text-align: right;\">\n",
       "      <th>ticker</th>\n",
       "      <th>IYR</th>\n",
       "      <th>XLB</th>\n",
       "      <th>XLE</th>\n",
       "      <th>XLF</th>\n",
       "      <th>XLI</th>\n",
       "      <th>XLK</th>\n",
       "      <th>XLP</th>\n",
       "      <th>XLU</th>\n",
       "      <th>XLV</th>\n",
       "      <th>XLY</th>\n",
       "    </tr>\n",
       "  </thead>\n",
       "  <tbody>\n",
       "    <tr>\n",
       "      <th>2000-07-03</th>\n",
       "      <td>35.578125</td>\n",
       "      <td>20.187500</td>\n",
       "      <td>30.531250</td>\n",
       "      <td>19.648661</td>\n",
       "      <td>28.656250</td>\n",
       "      <td>54.562500</td>\n",
       "      <td>25.281250</td>\n",
       "      <td>28.062500</td>\n",
       "      <td>29.500000</td>\n",
       "      <td>25.937500</td>\n",
       "    </tr>\n",
       "    <tr>\n",
       "      <th>2000-07-05</th>\n",
       "      <td>35.906250</td>\n",
       "      <td>20.281250</td>\n",
       "      <td>29.265625</td>\n",
       "      <td>19.864439</td>\n",
       "      <td>28.406250</td>\n",
       "      <td>52.812500</td>\n",
       "      <td>25.343750</td>\n",
       "      <td>28.312500</td>\n",
       "      <td>29.687500</td>\n",
       "      <td>26.250000</td>\n",
       "    </tr>\n",
       "    <tr>\n",
       "      <th>2000-07-06</th>\n",
       "      <td>36.015625</td>\n",
       "      <td>19.750000</td>\n",
       "      <td>29.562500</td>\n",
       "      <td>20.016754</td>\n",
       "      <td>28.328125</td>\n",
       "      <td>53.625000</td>\n",
       "      <td>25.375000</td>\n",
       "      <td>28.343750</td>\n",
       "      <td>29.625000</td>\n",
       "      <td>26.437500</td>\n",
       "    </tr>\n",
       "    <tr>\n",
       "      <th>2000-07-07</th>\n",
       "      <td>36.281250</td>\n",
       "      <td>19.656250</td>\n",
       "      <td>29.703125</td>\n",
       "      <td>20.359465</td>\n",
       "      <td>28.468750</td>\n",
       "      <td>54.500000</td>\n",
       "      <td>25.203125</td>\n",
       "      <td>28.640625</td>\n",
       "      <td>29.875000</td>\n",
       "      <td>27.718750</td>\n",
       "    </tr>\n",
       "    <tr>\n",
       "      <th>2000-07-10</th>\n",
       "      <td>36.250000</td>\n",
       "      <td>19.937500</td>\n",
       "      <td>29.843750</td>\n",
       "      <td>20.410236</td>\n",
       "      <td>28.500000</td>\n",
       "      <td>53.906250</td>\n",
       "      <td>25.437500</td>\n",
       "      <td>28.640625</td>\n",
       "      <td>29.625000</td>\n",
       "      <td>28.125000</td>\n",
       "    </tr>\n",
       "    <tr>\n",
       "      <th>...</th>\n",
       "      <td>...</td>\n",
       "      <td>...</td>\n",
       "      <td>...</td>\n",
       "      <td>...</td>\n",
       "      <td>...</td>\n",
       "      <td>...</td>\n",
       "      <td>...</td>\n",
       "      <td>...</td>\n",
       "      <td>...</td>\n",
       "      <td>...</td>\n",
       "    </tr>\n",
       "    <tr>\n",
       "      <th>2022-02-03</th>\n",
       "      <td>106.110001</td>\n",
       "      <td>84.519997</td>\n",
       "      <td>67.839996</td>\n",
       "      <td>39.430000</td>\n",
       "      <td>101.199997</td>\n",
       "      <td>158.960007</td>\n",
       "      <td>76.830002</td>\n",
       "      <td>69.029999</td>\n",
       "      <td>132.779999</td>\n",
       "      <td>179.300003</td>\n",
       "    </tr>\n",
       "    <tr>\n",
       "      <th>2022-02-04</th>\n",
       "      <td>105.129997</td>\n",
       "      <td>83.120003</td>\n",
       "      <td>68.900002</td>\n",
       "      <td>40.099998</td>\n",
       "      <td>100.110001</td>\n",
       "      <td>159.600006</td>\n",
       "      <td>75.889999</td>\n",
       "      <td>68.480003</td>\n",
       "      <td>132.300003</td>\n",
       "      <td>184.399994</td>\n",
       "    </tr>\n",
       "    <tr>\n",
       "      <th>2022-02-07</th>\n",
       "      <td>104.949997</td>\n",
       "      <td>82.709999</td>\n",
       "      <td>69.779999</td>\n",
       "      <td>40.220001</td>\n",
       "      <td>100.190002</td>\n",
       "      <td>158.539993</td>\n",
       "      <td>76.029999</td>\n",
       "      <td>68.379997</td>\n",
       "      <td>132.070007</td>\n",
       "      <td>184.020004</td>\n",
       "    </tr>\n",
       "    <tr>\n",
       "      <th>2022-02-08</th>\n",
       "      <td>104.400002</td>\n",
       "      <td>83.989998</td>\n",
       "      <td>68.279999</td>\n",
       "      <td>40.779999</td>\n",
       "      <td>101.190002</td>\n",
       "      <td>160.500000</td>\n",
       "      <td>76.320000</td>\n",
       "      <td>68.430000</td>\n",
       "      <td>133.149994</td>\n",
       "      <td>186.610001</td>\n",
       "    </tr>\n",
       "    <tr>\n",
       "      <th>2022-02-09</th>\n",
       "      <td>106.790001</td>\n",
       "      <td>85.820000</td>\n",
       "      <td>68.849998</td>\n",
       "      <td>41.040001</td>\n",
       "      <td>102.580002</td>\n",
       "      <td>164.059998</td>\n",
       "      <td>76.339996</td>\n",
       "      <td>68.730003</td>\n",
       "      <td>134.179993</td>\n",
       "      <td>189.080002</td>\n",
       "    </tr>\n",
       "  </tbody>\n",
       "</table>\n",
       "<p>5437 rows × 10 columns</p>\n",
       "</div>"
      ],
      "text/plain": [
       "ticker             IYR        XLB        XLE        XLF         XLI  \\\n",
       "2000-07-03   35.578125  20.187500  30.531250  19.648661   28.656250   \n",
       "2000-07-05   35.906250  20.281250  29.265625  19.864439   28.406250   \n",
       "2000-07-06   36.015625  19.750000  29.562500  20.016754   28.328125   \n",
       "2000-07-07   36.281250  19.656250  29.703125  20.359465   28.468750   \n",
       "2000-07-10   36.250000  19.937500  29.843750  20.410236   28.500000   \n",
       "...                ...        ...        ...        ...         ...   \n",
       "2022-02-03  106.110001  84.519997  67.839996  39.430000  101.199997   \n",
       "2022-02-04  105.129997  83.120003  68.900002  40.099998  100.110001   \n",
       "2022-02-07  104.949997  82.709999  69.779999  40.220001  100.190002   \n",
       "2022-02-08  104.400002  83.989998  68.279999  40.779999  101.190002   \n",
       "2022-02-09  106.790001  85.820000  68.849998  41.040001  102.580002   \n",
       "\n",
       "ticker             XLK        XLP        XLU         XLV         XLY  \n",
       "2000-07-03   54.562500  25.281250  28.062500   29.500000   25.937500  \n",
       "2000-07-05   52.812500  25.343750  28.312500   29.687500   26.250000  \n",
       "2000-07-06   53.625000  25.375000  28.343750   29.625000   26.437500  \n",
       "2000-07-07   54.500000  25.203125  28.640625   29.875000   27.718750  \n",
       "2000-07-10   53.906250  25.437500  28.640625   29.625000   28.125000  \n",
       "...                ...        ...        ...         ...         ...  \n",
       "2022-02-03  158.960007  76.830002  69.029999  132.779999  179.300003  \n",
       "2022-02-04  159.600006  75.889999  68.480003  132.300003  184.399994  \n",
       "2022-02-07  158.539993  76.029999  68.379997  132.070007  184.020004  \n",
       "2022-02-08  160.500000  76.320000  68.430000  133.149994  186.610001  \n",
       "2022-02-09  164.059998  76.339996  68.730003  134.179993  189.080002  \n",
       "\n",
       "[5437 rows x 10 columns]"
      ]
     },
     "execution_count": 2,
     "metadata": {},
     "output_type": "execute_result"
    }
   ],
   "source": [
    "# Read CSV to get the prices\n",
    "stock_prices_1 = pd.read_csv(\"stock.csv\",index_col=0)\n",
    "\n",
    "\n",
    "stock_prices_1 = stock_prices_1.pivot_table(index=['Date'],columns=['ticker'],values=['Close']).rename_axis(None, axis=0)\n",
    "stock_prices_1.columns = stock_prices_1.columns.droplevel(0)\n",
    "\n",
    "\n",
    "stock_prices = stock_prices_1.drop(['GDX','XME','XOP'],axis=1)\n",
    "#2017-01-03 to 2020-02-03\n",
    "#period = (stock_prices_1[1] > '2017-01-03') & (stock_prices_1[1] <= '2017-01-03')\n",
    "stock_prices"
   ]
  },
  {
   "cell_type": "code",
   "execution_count": 3,
   "id": "f151532e",
   "metadata": {},
   "outputs": [
    {
     "data": {
      "text/plain": [
       "ticker\n",
       "IYR    0.052264\n",
       "XLB    0.069377\n",
       "XLE    0.038409\n",
       "XLF    0.034727\n",
       "XLI    0.060889\n",
       "XLK    0.052349\n",
       "XLP    0.052556\n",
       "XLU    0.042391\n",
       "XLV    0.072733\n",
       "XLY    0.096443\n",
       "dtype: float64"
      ]
     },
     "execution_count": 3,
     "metadata": {},
     "output_type": "execute_result"
    }
   ],
   "source": [
    "\n",
    "# Calculate annualised returns\n",
    "annual_returns = ((((stock_prices.iloc[-1]-stock_prices.iloc[0]) / stock_prices.iloc[0]) \\\n",
    "                   + 1)**(252/len(stock_prices)) - 1)\n",
    "annual_returns"
   ]
  },
  {
   "cell_type": "markdown",
   "id": "6c1edd8b",
   "metadata": {},
   "source": [
    "<a id='weights'></a> \n",
    "## Make random portfolios with different weights\n",
    "\n",
    "Let's generate 1000 portfolios with different percentage of allocations for the constituents. You will calculate portfolio returns and portfolio standard deviation for all the portfolios and save it into the dataframe `portfolio`. The weight allocation is saved in the list named `weights_array`.\n",
    "\n",
    "The number 1000 is just for an example here and can be increased if you want."
   ]
  },
  {
   "cell_type": "code",
   "execution_count": 4,
   "id": "5041e80b",
   "metadata": {},
   "outputs": [],
   "source": [
    "# Create an empty dataframe\n",
    "portfolio = pd.DataFrame()\n",
    "weights_array = []\n",
    "\n",
    "# Initialize the number of portfolios\n",
    "num_of_portfolios = 1000\n",
    "\n",
    "# Get the number of stocks available in the data file\n",
    "num_of_stocks = stock_prices.shape[1]\n",
    "\n",
    "# Calculate daily returns\n",
    "stock_returns = stock_prices.pct_change().dropna()\n",
    "\n",
    "# Run the loop for each portfolio\n",
    "for i in range(num_of_portfolios):\n",
    "    # Generate random portfolio\n",
    "    rnd_nums = list(np.random.random(num_of_stocks))\n",
    "    \n",
    "    # Ensure the sum of weights is 1\n",
    "    weights = list(rnd_nums/sum(rnd_nums))\n",
    "    \n",
    "    # Save weight allocation in a list\n",
    "    weights_array.append(weights)\n",
    "    \n",
    "    # Save the portfolio returns and portfolio standard deviation values along with its ratio\n",
    "    portfolio.loc[i, 'returns'] = sum(weights * annual_returns)\n",
    "    \n",
    "    # Calculate the portfolio returns\n",
    "    portfolio_rets = stock_returns * weights\n",
    "    \n",
    "    # Caclulate the portfolio standard deviation\n",
    "    portfolio.loc[i, 'std_dev'] = portfolio_rets.sum(axis=1).std()*math.sqrt(252)\n",
    "\n",
    "    # Caclulate the portfolio Sharpe \n",
    "    portfolio.loc[i, 'returns/std_dev'] = portfolio.loc[i, 'returns'] / portfolio.loc[i, 'std_dev']"
   ]
  },
  {
   "cell_type": "markdown",
   "id": "7882069c",
   "metadata": {},
   "source": [
    "<a id='max'></a> \n",
    "## Identify the portfolios with maximum returns/risk and minimum risk\n",
    "\n",
    "Let's identify the portfolio with maximum returns/standard deviation. We will also identify the portfolio with the minimum standard deviation."
   ]
  },
  {
   "cell_type": "code",
   "execution_count": 5,
   "id": "deb4c94c",
   "metadata": {},
   "outputs": [],
   "source": [
    "# Identify the portfolio with the maximum returns/standard deviation using idxmax() function\n",
    "max_ret_by_std_dev = portfolio.iloc[portfolio['returns/std_dev'].idxmax()]\n",
    "wts_max_ret_by_std_dev = weights_array[portfolio['returns/std_dev'].idxmax()]\n",
    "\n",
    "# Similarly identify the portfolio with the minimum standard deviation using idxmin() function\n",
    "min_std_dev = portfolio.iloc[portfolio['std_dev'].idxmin()]\n",
    "wts_min_std_dev = weights_array[portfolio['std_dev'].idxmin()]"
   ]
  },
  {
   "cell_type": "markdown",
   "id": "a78494ae",
   "metadata": {},
   "source": [
    "<a id='frontier'></a>\n",
    "## Efficient frontier\n",
    "\n",
    "We will plot all the 1000 portfolios in a graph with portfolio standard deviation on the X-axis and portfolio returns on the Y-axis. The curve generated is known as the <b>Efficient Frontier</b>"
   ]
  },
  {
   "cell_type": "code",
   "execution_count": 6,
   "id": "a3672ce9",
   "metadata": {},
   "outputs": [
    {
     "data": {
      "image/png": "[encoded data removed]",
      "text/plain": [
       "<Figure size 720x504 with 1 Axes>"
      ]
     },
     "metadata": {
      "needs_background": "light"
     },
     "output_type": "display_data"
    }
   ],
   "source": [
    "# Highlight the maximum returns/risk portfolio and minimum risk portfolio\n",
    "plt.figure(figsize=(10, 7))\n",
    "plt.grid()\n",
    "plt.scatter(portfolio.std_dev, portfolio.returns, label='Random Portfolios')\n",
    "plt.scatter(max_ret_by_std_dev.std_dev, max_ret_by_std_dev.returns,\n",
    "            marker='*', s=200, color='r', label='Maximum Ret/Risk Portfolio')\n",
    "plt.scatter(min_std_dev.std_dev, min_std_dev.returns,\n",
    "            marker='*', s=200, color='darkorange', label='Minimum Risk Portfolio')\n",
    "plt.xlabel('Portfolio Standard Deviation', fontsize=14)\n",
    "plt.xticks(fontsize=12)\n",
    "plt.ylabel('Portfolio Returns', fontsize=14)\n",
    "plt.yticks(fontsize=12)\n",
    "plt.legend(loc='best', fontsize=14)\n",
    "plt.title('Portfolio Optimization based on Efficient Frontier', fontsize=20)\n",
    "plt.show()"
   ]
  },
  {
   "cell_type": "markdown",
   "id": "306041fc",
   "metadata": {},
   "source": [
    "<a id='opt_wt'></a> \n",
    "## Results\n",
    "\n",
    "You have saved the weights also while creating the portfolios. You can now get the optimal weights of the portfolio with maximum returns/standard deviation value.\n",
    "\n",
    "### Portfolio with maximum Sharpe ratio (returns/standard deviation)"
   ]
  },
  {
   "cell_type": "code",
   "execution_count": 7,
   "id": "e4c06396",
   "metadata": {},
   "outputs": [
    {
     "name": "stdout",
     "output_type": "stream",
     "text": [
      "The portfolio metrics for the maximum return/std dev. portfolio:\n",
      "returns            0.064921\n",
      "std_dev            0.174589\n",
      "returns/std_dev    0.371850\n",
      "Name: 822, dtype: float64\n",
      "\n",
      "The portfolio weights for each stock in the maximum return/std dev. portfolio is as:\n",
      "IYR 9.05%\n",
      "XLB 5.64%\n",
      "XLE 2.63%\n",
      "XLF 0.59%\n",
      "XLI 12.12%\n",
      "XLK 8.21%\n",
      "XLP 27.5%\n",
      "XLU 6.29%\n",
      "XLV 3.0%\n",
      "XLY 24.98%\n"
     ]
    }
   ],
   "source": [
    "# Print the portfolio with the maximum Sharpe ratio\n",
    "print(\"The portfolio metrics for the maximum return/std dev. portfolio:\")\n",
    "print(max_ret_by_std_dev)\n",
    "print(\"\\nThe portfolio weights for each stock in the maximum return/std dev. portfolio is as:\")\n",
    "for i,j in zip(stock_prices.columns,wts_max_ret_by_std_dev):\n",
    "    print(\"{} {}%\".format(i,round(j*100,2))) "
   ]
  },
  {
   "cell_type": "markdown",
   "id": "ae918385",
   "metadata": {},
   "source": [
    "### Portfolio with minimum risk"
   ]
  },
  {
   "cell_type": "code",
   "execution_count": 8,
   "id": "edf8f58c",
   "metadata": {},
   "outputs": [
    {
     "name": "stdout",
     "output_type": "stream",
     "text": [
      "The portfolio metrics for the minimum std dev. portfolio:\n",
      "returns            0.059498\n",
      "std_dev            0.166413\n",
      "returns/std_dev    0.357532\n",
      "Name: 241, dtype: float64\n",
      "\n",
      "The portfolio weights for each stock in the minimum std dev. portfolio is as:\n",
      "IYR 6.39%\n",
      "XLB 7.77%\n",
      "XLE 2.32%\n",
      "XLF 1.4%\n",
      "XLI 17.54%\n",
      "XLK 0.91%\n",
      "XLP 20.36%\n",
      "XLU 19.17%\n",
      "XLV 16.36%\n",
      "XLY 7.79%\n"
     ]
    }
   ],
   "source": [
    "# Print the portfolio with the minimum risk\n",
    "print(\"The portfolio metrics for the minimum std dev. portfolio:\")\n",
    "print(min_std_dev)\n",
    "print(\"\\nThe portfolio weights for each stock in the minimum std dev. portfolio is as:\")\n",
    "for i,j in zip(stock_prices.columns,wts_min_std_dev):\n",
    "    print(\"{} {}%\".format(i,round(j*100,2))) "
   ]
  },
  {
   "cell_type": "markdown",
   "id": "9eb418c9",
   "metadata": {},
   "source": [
    "## Conclusion\n",
    "\n",
    "The minimum risk portfolio assigns lesser weight to `MSFT` and more to `GOOGL`. The weight distribution is reversed in the portfolio with the maximum Sharpe ratio. This increase in weight of `MSFT` for the minimum risk porfolio indicates that `MSFT` is a safer investment for this data period. Similarly, `GOOGL` is a comparatively risky investment when compared to `MSFT`.\n",
    "\n",
    "The MPT is thus implemented on multiple assets. You can try using this code on more stocks if you like with the additional assets coming in as additional columns."
   ]
  }
 ],
 "metadata": {
  "kernelspec": {
   "display_name": "Python 3",
   "language": "python",
   "name": "python3"
  },
  "language_info": {
   "codemirror_mode": {
    "name": "ipython",
    "version": 3
   },
   "file_extension": ".py",
   "mimetype": "text/x-python",
   "name": "python",
   "nbconvert_exporter": "python",
   "pygments_lexer": "ipython3",
   "version": "3.9.5"
  }
 },
 "nbformat": 4,
 "nbformat_minor": 5
}
