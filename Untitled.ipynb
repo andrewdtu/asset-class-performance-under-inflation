{
 "cells": [
  {
   "cell_type": "code",
   "execution_count": 1,
   "id": "79d243da",
   "metadata": {
    "scrolled": true
   },
   "outputs": [],
   "source": [
    "import time\n",
    "import pandas as pd\n",
    "import datetime\n",
    "import numpy as np\n",
    "efer_start_date = '2000-07-03'\n",
    "efer_end_date = '2022-02-10'\n",
    "fed_rate_query = f'https://fred.stlouisfed.org/graph/fredgraph.csv?bgcolor=%23e1e9f0&chart_type=line&drp=0&fo=open%20sans&graph_bgcolor=%23ffffff&height=450&mode=fred&recession_bars=on&txtcolor=%23444444&ts=12&tts=12&width=1168&nt=0&thu=0&trc=0&show_legend=yes&show_axis_titles=yes&show_tooltip=yes&id=EFFR&scale=left&cosd=2000-07-03&coed={efer_end_date}&line_color=%234572a7&link_values=false&line_style=solid&mark_type=none&mw=3&lw=2&ost=-99999&oet=99999&mma=0&fml=a&fq=Daily&fam=avg&fgst=lin&fgsnd=2020-02-01&line_index=1&transformation=lin&vintage_date=2022-02-12&revision_date=2022-02-12&nd={efer_start_date}'\n",
    "fed_rate = pd.read_csv(fed_rate_query)\n",
    "tickers = ['XLE','XLF','XLU','XLI','GDX','XLK','XLV','XLY','XLP','XLB','XOP','IYR','XME']\n",
    "interval = '1d'\n",
    "\n",
    "stock_start_date = int(time.mktime(datetime.datetime(2000, 7, 3).timetuple()))\n",
    "stock_end_date = int(time.mktime(datetime.datetime(2022, 2, 10).timetuple()))\n",
    "\n",
    "\n",
    "\n",
    "list_of_df = []\n",
    "for ticker in tickers:\n",
    "    query_string = f'https://query1.finance.yahoo.com/v7/finance/download/{ticker}?period1={stock_start_date}&period2={stock_end_date}&interval={interval}&events=history&includeAdjustedClose=true'\n",
    "    df = pd.read_csv(query_string)\n",
    "    df.insert (0, \"ticker\", ticker)\n",
    "\n",
    "    list_of_df.append(df)\n",
    "\n"
   ]
  },
  {
   "cell_type": "code",
   "execution_count": 2,
   "id": "4090ff24",
   "metadata": {},
   "outputs": [],
   "source": [
    "stock_df = pd.concat(list_of_df)\n",
    "stock_df.reset_index(inplace=True)\n",
    "#stock_df['Date'] = pd.to_datetime(stock_df['Date'])\n"
   ]
  },
  {
   "cell_type": "code",
   "execution_count": 9,
   "id": "cb58806f",
   "metadata": {},
   "outputs": [],
   "source": [
    "import numpy as np"
   ]
  },
  {
   "cell_type": "code",
   "execution_count": 30,
   "id": "943af19a",
   "metadata": {},
   "outputs": [],
   "source": [
    "efer_start_date = '2000-07-03'\n",
    "efer_end_date = '2022-02-10'\n",
    "fed_rate_query = f'https://fred.stlouisfed.org/graph/fredgraph.csv?bgcolor=%23e1e9f0&chart_type=line&drp=0&fo=open%20sans&graph_bgcolor=%23ffffff&height=450&mode=fred&recession_bars=on&txtcolor=%23444444&ts=12&tts=12&width=1168&nt=0&thu=0&trc=0&show_legend=yes&show_axis_titles=yes&show_tooltip=yes&id=EFFR&scale=left&cosd={efer_start_date}&coed={efer_end_date}&line_color=%234572a7&link_values=false&line_style=solid&mark_type=none&mw=3&lw=2&ost=-99999&oet=99999&mma=0&fml=a&fq=Daily&fam=avg&fgst=lin&fgsnd=2020-02-01&line_index=1&transformation=lin&vintage_date=2022-02-12&revision_date=2022-02-12&nd=2000-07-03'\n",
    "fed_rate = pd.read_csv(fed_rate_query)\n",
    "fed_rate.rename(columns={\"DATE\": \"Date\"},inplace=True)\n",
    "fed_rate.replace('.',np.nan, inplace = True)\n",
    "fed_rate['EFFR'] = pd.to_numeric(fed_rate['EFFR'])\n",
    "fed_rate['EFFR'].interpolate(inplace =True)\n"
   ]
  },
  {
   "cell_type": "code",
   "execution_count": 32,
   "id": "98683cb8",
   "metadata": {
    "scrolled": true
   },
   "outputs": [
    {
     "data": {
      "text/html": [
       "<div>\n",
       "<style scoped>\n",
       "    .dataframe tbody tr th:only-of-type {\n",
       "        vertical-align: middle;\n",
       "    }\n",
       "\n",
       "    .dataframe tbody tr th {\n",
       "        vertical-align: top;\n",
       "    }\n",
       "\n",
       "    .dataframe thead th {\n",
       "        text-align: right;\n",
       "    }\n",
       "</style>\n",
       "<table border=\"1\" class=\"dataframe\">\n",
       "  <thead>\n",
       "    <tr style=\"text-align: right;\">\n",
       "      <th></th>\n",
       "      <th>Date</th>\n",
       "      <th>EFFR</th>\n",
       "    </tr>\n",
       "  </thead>\n",
       "  <tbody>\n",
       "    <tr>\n",
       "      <th>0</th>\n",
       "      <td>2000-07-03</td>\n",
       "      <td>7.030</td>\n",
       "    </tr>\n",
       "    <tr>\n",
       "      <th>1</th>\n",
       "      <td>2000-07-04</td>\n",
       "      <td>6.775</td>\n",
       "    </tr>\n",
       "    <tr>\n",
       "      <th>2</th>\n",
       "      <td>2000-07-05</td>\n",
       "      <td>6.520</td>\n",
       "    </tr>\n",
       "    <tr>\n",
       "      <th>3</th>\n",
       "      <td>2000-07-06</td>\n",
       "      <td>6.510</td>\n",
       "    </tr>\n",
       "    <tr>\n",
       "      <th>4</th>\n",
       "      <td>2000-07-07</td>\n",
       "      <td>6.420</td>\n",
       "    </tr>\n",
       "    <tr>\n",
       "      <th>...</th>\n",
       "      <td>...</td>\n",
       "      <td>...</td>\n",
       "    </tr>\n",
       "    <tr>\n",
       "      <th>5634</th>\n",
       "      <td>2022-02-04</td>\n",
       "      <td>0.080</td>\n",
       "    </tr>\n",
       "    <tr>\n",
       "      <th>5635</th>\n",
       "      <td>2022-02-07</td>\n",
       "      <td>0.080</td>\n",
       "    </tr>\n",
       "    <tr>\n",
       "      <th>5636</th>\n",
       "      <td>2022-02-08</td>\n",
       "      <td>0.080</td>\n",
       "    </tr>\n",
       "    <tr>\n",
       "      <th>5637</th>\n",
       "      <td>2022-02-09</td>\n",
       "      <td>0.080</td>\n",
       "    </tr>\n",
       "    <tr>\n",
       "      <th>5638</th>\n",
       "      <td>2022-02-10</td>\n",
       "      <td>0.080</td>\n",
       "    </tr>\n",
       "  </tbody>\n",
       "</table>\n",
       "<p>5639 rows × 2 columns</p>\n",
       "</div>"
      ],
      "text/plain": [
       "            Date   EFFR\n",
       "0     2000-07-03  7.030\n",
       "1     2000-07-04  6.775\n",
       "2     2000-07-05  6.520\n",
       "3     2000-07-06  6.510\n",
       "4     2000-07-07  6.420\n",
       "...          ...    ...\n",
       "5634  2022-02-04  0.080\n",
       "5635  2022-02-07  0.080\n",
       "5636  2022-02-08  0.080\n",
       "5637  2022-02-09  0.080\n",
       "5638  2022-02-10  0.080\n",
       "\n",
       "[5639 rows x 2 columns]"
      ]
     },
     "execution_count": 32,
     "metadata": {},
     "output_type": "execute_result"
    }
   ],
   "source": [
    "fed_rate"
   ]
  },
  {
   "cell_type": "code",
   "execution_count": 33,
   "id": "50258a3e",
   "metadata": {},
   "outputs": [],
   "source": [
    " df_merged = stock_df.merge(fed_rate,how='left', left_on='Date', right_on='Date')"
   ]
  },
  {
   "cell_type": "code",
   "execution_count": 34,
   "id": "e0ae2287",
   "metadata": {},
   "outputs": [],
   "source": [
    "df_merged.to_csv('stock.csv')"
   ]
  },
  {
   "cell_type": "code",
   "execution_count": 35,
   "id": "eb7c19ea",
   "metadata": {},
   "outputs": [
    {
     "data": {
      "text/plain": [
       "0        7.03\n",
       "1        6.52\n",
       "2        6.51\n",
       "3        6.42\n",
       "4        6.51\n",
       "         ... \n",
       "66198    0.08\n",
       "66199    0.08\n",
       "66200    0.08\n",
       "66201    0.08\n",
       "66202    0.08\n",
       "Name: EFFR, Length: 66203, dtype: float64"
      ]
     },
     "execution_count": 35,
     "metadata": {},
     "output_type": "execute_result"
    }
   ],
   "source": [
    "df_merged['EFFR']"
   ]
  },
  {
   "cell_type": "code",
   "execution_count": null,
   "id": "f1c6e861",
   "metadata": {},
   "outputs": [],
   "source": []
  },
  {
   "cell_type": "code",
   "execution_count": null,
   "id": "a1950359",
   "metadata": {},
   "outputs": [],
   "source": []
  }
 ],
 "metadata": {
  "kernelspec": {
   "display_name": "Python 3",
   "language": "python",
   "name": "python3"
  },
  "language_info": {
   "codemirror_mode": {
    "name": "ipython",
    "version": 3
   },
   "file_extension": ".py",
   "mimetype": "text/x-python",
   "name": "python",
   "nbconvert_exporter": "python",
   "pygments_lexer": "ipython3",
   "version": "3.9.5"
  }
 },
 "nbformat": 4,
 "nbformat_minor": 5
}
